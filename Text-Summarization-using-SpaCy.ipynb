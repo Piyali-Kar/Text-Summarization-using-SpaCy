{
 "cells": [
  {
   "cell_type": "markdown",
   "id": "62d9c878",
   "metadata": {},
   "source": [
    "**Steps taken to do Text Summarization:-**\n",
    "1. Text Cleaning\n",
    "2. Sentence Tokenization\n",
    "3. Word Tokenization\n",
    "4. Word-frequency table\n",
    "5. Overall Summarization"
   ]
  },
  {
   "cell_type": "markdown",
   "id": "ec6775aa",
   "metadata": {},
   "source": [
    "**Text to summarize-**"
   ]
  },
  {
   "cell_type": "code",
   "execution_count": 16,
   "id": "18fb8e8e",
   "metadata": {},
   "outputs": [],
   "source": [
    "text= \"\"\"\n",
    "Johannes Gutenberg was a German goldsmith and publisher who introduced printing to Europe. His introduction of mechanical movable type printing to Europe started the Printing Revolution and is widely regarded as the most important event of the modern period. It played a key role in the scientific revolution and laid the basis for the modern knowledge-based economy and the spread of learning to the masses.\n",
    "Gutenberg many contributions to printing are: the invention of a process for mass-producing movable type, the use of oil-based ink for printing books, adjustable molds, and the use of a wooden printing press. His truly epochal invention was the combination of these elements into a practical system that allowed the mass production of printed books and was economically viable for printers and readers alike.\n",
    "In Renaissance Europe, the arrival of mechanical movable type printing introduced the era of mass communication which permanently altered the structure of society. The relatively unrestricted circulation of information including revolutionary ideas - transcended borders, and captured the masses in the Reformation. The sharp increase in literacy broke the monopoly of the literate elite on education and learning and bolstered the emerging middle class.\n",
    "\"\"\""
   ]
  },
  {
   "cell_type": "markdown",
   "id": "46bcc4a4",
   "metadata": {},
   "source": [
    "**Using SpaCy library**\n",
    "\n",
    "There are three types of models available here : Small, Medium and Large.\n",
    "\n",
    "For this project, I am installing small but if you have medium and large then it is also fine."
   ]
  },
  {
   "cell_type": "code",
   "execution_count": 3,
   "id": "79087b10",
   "metadata": {},
   "outputs": [
    {
     "name": "stdout",
     "output_type": "stream",
     "text": [
      "Requirement already satisfied: pip in c:\\users\\piyal\\anaconda3\\lib\\site-packages (21.2.4)"
     ]
    },
    {
     "name": "stderr",
     "output_type": "stream",
     "text": [
      "ERROR: pip's dependency resolver does not currently take into account all the packages that are installed. This behaviour is the source of the following dependency conflicts.\n",
      "spyder 5.1.5 requires pyqt5<5.13, which is not installed.\n",
      "spyder 5.1.5 requires pyqtwebengine<5.13, which is not installed.\n",
      "conda-repo-cli 1.0.4 requires pathlib, which is not installed.\n",
      "anaconda-project 0.10.1 requires ruamel-yaml, which is not installed.\n"
     ]
    },
    {
     "name": "stdout",
     "output_type": "stream",
     "text": [
      "\n",
      "Collecting pip\n",
      "  Downloading pip-23.1-py3-none-any.whl (2.1 MB)\n",
      "Requirement already satisfied: setuptools in c:\\users\\piyal\\anaconda3\\lib\\site-packages (58.0.4)\n",
      "Collecting setuptools\n",
      "  Downloading setuptools-67.6.1-py3-none-any.whl (1.1 MB)\n",
      "Requirement already satisfied: wheel in c:\\users\\piyal\\anaconda3\\lib\\site-packages (0.37.0)\n",
      "Collecting wheel\n",
      "  Downloading wheel-0.40.0-py3-none-any.whl (64 kB)\n",
      "Installing collected packages: wheel, setuptools, pip\n",
      "  Attempting uninstall: wheel\n",
      "    Found existing installation: wheel 0.37.0\n",
      "    Uninstalling wheel-0.37.0:\n",
      "      Successfully uninstalled wheel-0.37.0\n",
      "  Attempting uninstall: setuptools\n",
      "    Found existing installation: setuptools 58.0.4\n",
      "    Uninstalling setuptools-58.0.4:\n",
      "      Successfully uninstalled setuptools-58.0.4\n",
      "  Attempting uninstall: pip\n",
      "    Found existing installation: pip 21.2.4\n",
      "    Uninstalling pip-21.2.4:\n",
      "      Successfully uninstalled pip-21.2.4\n",
      "Successfully installed pip-23.1 setuptools-67.6.1 wheel-0.40.0\n",
      "Collecting spacy\n",
      "  Downloading spacy-3.5.2-cp39-cp39-win_amd64.whl (12.2 MB)\n",
      "     -------------------------------------- 12.2/12.2 MB 219.0 kB/s eta 0:00:00\n",
      "Collecting spacy-legacy<3.1.0,>=3.0.11 (from spacy)\n",
      "  Downloading spacy_legacy-3.0.12-py2.py3-none-any.whl (29 kB)\n",
      "Collecting spacy-loggers<2.0.0,>=1.0.0 (from spacy)\n",
      "  Downloading spacy_loggers-1.0.4-py3-none-any.whl (11 kB)\n",
      "Collecting murmurhash<1.1.0,>=0.28.0 (from spacy)\n",
      "  Downloading murmurhash-1.0.9-cp39-cp39-win_amd64.whl (18 kB)\n",
      "Collecting cymem<2.1.0,>=2.0.2 (from spacy)\n",
      "  Downloading cymem-2.0.7-cp39-cp39-win_amd64.whl (30 kB)\n",
      "Collecting preshed<3.1.0,>=3.0.2 (from spacy)\n",
      "  Downloading preshed-3.0.8-cp39-cp39-win_amd64.whl (96 kB)\n",
      "     -------------------------------------- 96.8/96.8 kB 277.3 kB/s eta 0:00:00\n",
      "Collecting thinc<8.2.0,>=8.1.8 (from spacy)\n",
      "  Downloading thinc-8.1.9-cp39-cp39-win_amd64.whl (1.5 MB)\n",
      "     ---------------------------------------- 1.5/1.5 MB 311.5 kB/s eta 0:00:00\n",
      "Collecting wasabi<1.2.0,>=0.9.1 (from spacy)\n",
      "  Downloading wasabi-1.1.1-py3-none-any.whl (27 kB)\n",
      "Collecting srsly<3.0.0,>=2.4.3 (from spacy)\n",
      "  Downloading srsly-2.4.6-cp39-cp39-win_amd64.whl (482 kB)\n",
      "     ------------------------------------ 482.8/482.8 kB 458.4 kB/s eta 0:00:00\n",
      "Collecting catalogue<2.1.0,>=2.0.6 (from spacy)\n",
      "  Downloading catalogue-2.0.8-py3-none-any.whl (17 kB)\n",
      "Collecting typer<0.8.0,>=0.3.0 (from spacy)\n",
      "  Downloading typer-0.7.0-py3-none-any.whl (38 kB)\n",
      "Collecting pathy>=0.10.0 (from spacy)\n",
      "  Downloading pathy-0.10.1-py3-none-any.whl (48 kB)\n",
      "     -------------------------------------- 48.9/48.9 kB 354.3 kB/s eta 0:00:00\n",
      "Collecting smart-open<7.0.0,>=5.2.1 (from spacy)\n",
      "  Downloading smart_open-6.3.0-py3-none-any.whl (56 kB)\n",
      "     -------------------------------------- 56.8/56.8 kB 500.2 kB/s eta 0:00:00\n",
      "Requirement already satisfied: tqdm<5.0.0,>=4.38.0 in c:\\users\\piyal\\anaconda3\\lib\\site-packages (from spacy) (4.62.3)\n",
      "Requirement already satisfied: numpy>=1.15.0 in c:\\users\\piyal\\anaconda3\\lib\\site-packages (from spacy) (1.20.3)\n",
      "Requirement already satisfied: requests<3.0.0,>=2.13.0 in c:\\users\\piyal\\anaconda3\\lib\\site-packages (from spacy) (2.26.0)\n",
      "Collecting pydantic!=1.8,!=1.8.1,<1.11.0,>=1.7.4 (from spacy)\n",
      "  Downloading pydantic-1.10.7-cp39-cp39-win_amd64.whl (2.2 MB)\n",
      "     ---------------------------------------- 2.2/2.2 MB 244.6 kB/s eta 0:00:00\n",
      "Requirement already satisfied: jinja2 in c:\\users\\piyal\\anaconda3\\lib\\site-packages (from spacy) (2.11.3)\n",
      "Requirement already satisfied: setuptools in c:\\users\\piyal\\anaconda3\\lib\\site-packages (from spacy) (67.6.1)\n",
      "Requirement already satisfied: packaging>=20.0 in c:\\users\\piyal\\anaconda3\\lib\\site-packages (from spacy) (21.0)\n",
      "Collecting langcodes<4.0.0,>=3.2.0 (from spacy)\n",
      "  Downloading langcodes-3.3.0-py3-none-any.whl (181 kB)\n",
      "     ------------------------------------ 181.6/181.6 kB 119.2 kB/s eta 0:00:00\n",
      "Requirement already satisfied: pyparsing>=2.0.2 in c:\\users\\piyal\\anaconda3\\lib\\site-packages (from packaging>=20.0->spacy) (3.0.4)\n",
      "Collecting typing-extensions>=4.2.0 (from pydantic!=1.8,!=1.8.1,<1.11.0,>=1.7.4->spacy)\n",
      "  Downloading typing_extensions-4.5.0-py3-none-any.whl (27 kB)\n",
      "Requirement already satisfied: urllib3<1.27,>=1.21.1 in c:\\users\\piyal\\anaconda3\\lib\\site-packages (from requests<3.0.0,>=2.13.0->spacy) (1.26.7)\n",
      "Requirement already satisfied: certifi>=2017.4.17 in c:\\users\\piyal\\anaconda3\\lib\\site-packages (from requests<3.0.0,>=2.13.0->spacy) (2021.10.8)\n",
      "Requirement already satisfied: charset-normalizer~=2.0.0 in c:\\users\\piyal\\anaconda3\\lib\\site-packages (from requests<3.0.0,>=2.13.0->spacy) (2.0.4)\n",
      "Requirement already satisfied: idna<4,>=2.5 in c:\\users\\piyal\\anaconda3\\lib\\site-packages (from requests<3.0.0,>=2.13.0->spacy) (3.2)\n",
      "Collecting blis<0.8.0,>=0.7.8 (from thinc<8.2.0,>=8.1.8->spacy)\n",
      "  Downloading blis-0.7.9-cp39-cp39-win_amd64.whl (7.0 MB)\n",
      "     ---------------------------------------- 7.0/7.0 MB 341.8 kB/s eta 0:00:00\n",
      "Collecting confection<1.0.0,>=0.0.1 (from thinc<8.2.0,>=8.1.8->spacy)\n",
      "  Downloading confection-0.0.4-py3-none-any.whl (32 kB)\n",
      "Requirement already satisfied: colorama in c:\\users\\piyal\\anaconda3\\lib\\site-packages (from tqdm<5.0.0,>=4.38.0->spacy) (0.4.4)\n",
      "Requirement already satisfied: click<9.0.0,>=7.1.1 in c:\\users\\piyal\\anaconda3\\lib\\site-packages (from typer<0.8.0,>=0.3.0->spacy) (8.0.3)\n",
      "Collecting colorama (from tqdm<5.0.0,>=4.38.0->spacy)\n",
      "  Downloading colorama-0.4.6-py2.py3-none-any.whl (25 kB)\n",
      "Requirement already satisfied: MarkupSafe>=0.23 in c:\\users\\piyal\\anaconda3\\lib\\site-packages (from jinja2->spacy) (1.1.1)\n",
      "Installing collected packages: cymem, typing-extensions, spacy-loggers, spacy-legacy, smart-open, murmurhash, langcodes, colorama, catalogue, blis, wasabi, srsly, pydantic, preshed, typer, confection, thinc, pathy, spacy\n",
      "  Attempting uninstall: typing-extensions\n",
      "    Found existing installation: typing-extensions 3.10.0.2\n",
      "    Uninstalling typing-extensions-3.10.0.2:\n",
      "      Successfully uninstalled typing-extensions-3.10.0.2\n",
      "  Attempting uninstall: colorama\n",
      "    Found existing installation: colorama 0.4.4\n",
      "    Uninstalling colorama-0.4.4:\n",
      "      Successfully uninstalled colorama-0.4.4\n",
      "Successfully installed blis-0.7.9 catalogue-2.0.8 colorama-0.4.6 confection-0.0.4 cymem-2.0.7 langcodes-3.3.0 murmurhash-1.0.9 pathy-0.10.1 preshed-3.0.8 pydantic-1.10.7 smart-open-6.3.0 spacy-3.5.2 spacy-legacy-3.0.12 spacy-loggers-1.0.4 srsly-2.4.6 thinc-8.1.9 typer-0.7.0 typing-extensions-4.5.0 wasabi-1.1.1\n"
     ]
    },
    {
     "name": "stderr",
     "output_type": "stream",
     "text": [
      "ERROR: pip's dependency resolver does not currently take into account all the packages that are installed. This behaviour is the source of the following dependency conflicts.\n",
      "spyder 5.1.5 requires pyqt5<5.13, which is not installed.\n",
      "spyder 5.1.5 requires pyqtwebengine<5.13, which is not installed.\n"
     ]
    },
    {
     "name": "stdout",
     "output_type": "stream",
     "text": [
      "Collecting en-core-web-sm==3.5.0\n",
      "  Downloading https://github.com/explosion/spacy-models/releases/download/en_core_web_sm-3.5.0/en_core_web_sm-3.5.0-py3-none-any.whl (12.8 MB)\n",
      "     ---------------------------------------- 12.8/12.8 MB 2.0 MB/s eta 0:00:00\n",
      "Requirement already satisfied: spacy<3.6.0,>=3.5.0 in c:\\users\\piyal\\anaconda3\\lib\\site-packages (from en-core-web-sm==3.5.0) (3.5.2)\n",
      "Requirement already satisfied: spacy-legacy<3.1.0,>=3.0.11 in c:\\users\\piyal\\anaconda3\\lib\\site-packages (from spacy<3.6.0,>=3.5.0->en-core-web-sm==3.5.0) (3.0.12)\n",
      "Requirement already satisfied: spacy-loggers<2.0.0,>=1.0.0 in c:\\users\\piyal\\anaconda3\\lib\\site-packages (from spacy<3.6.0,>=3.5.0->en-core-web-sm==3.5.0) (1.0.4)\n",
      "Requirement already satisfied: murmurhash<1.1.0,>=0.28.0 in c:\\users\\piyal\\anaconda3\\lib\\site-packages (from spacy<3.6.0,>=3.5.0->en-core-web-sm==3.5.0) (1.0.9)\n",
      "Requirement already satisfied: cymem<2.1.0,>=2.0.2 in c:\\users\\piyal\\anaconda3\\lib\\site-packages (from spacy<3.6.0,>=3.5.0->en-core-web-sm==3.5.0) (2.0.7)\n",
      "Requirement already satisfied: preshed<3.1.0,>=3.0.2 in c:\\users\\piyal\\anaconda3\\lib\\site-packages (from spacy<3.6.0,>=3.5.0->en-core-web-sm==3.5.0) (3.0.8)\n",
      "Requirement already satisfied: thinc<8.2.0,>=8.1.8 in c:\\users\\piyal\\anaconda3\\lib\\site-packages (from spacy<3.6.0,>=3.5.0->en-core-web-sm==3.5.0) (8.1.9)\n",
      "Requirement already satisfied: wasabi<1.2.0,>=0.9.1 in c:\\users\\piyal\\anaconda3\\lib\\site-packages (from spacy<3.6.0,>=3.5.0->en-core-web-sm==3.5.0) (1.1.1)\n",
      "Requirement already satisfied: srsly<3.0.0,>=2.4.3 in c:\\users\\piyal\\anaconda3\\lib\\site-packages (from spacy<3.6.0,>=3.5.0->en-core-web-sm==3.5.0) (2.4.6)\n",
      "Requirement already satisfied: catalogue<2.1.0,>=2.0.6 in c:\\users\\piyal\\anaconda3\\lib\\site-packages (from spacy<3.6.0,>=3.5.0->en-core-web-sm==3.5.0) (2.0.8)\n",
      "Requirement already satisfied: typer<0.8.0,>=0.3.0 in c:\\users\\piyal\\anaconda3\\lib\\site-packages (from spacy<3.6.0,>=3.5.0->en-core-web-sm==3.5.0) (0.7.0)\n",
      "Requirement already satisfied: pathy>=0.10.0 in c:\\users\\piyal\\anaconda3\\lib\\site-packages (from spacy<3.6.0,>=3.5.0->en-core-web-sm==3.5.0) (0.10.1)\n",
      "Requirement already satisfied: smart-open<7.0.0,>=5.2.1 in c:\\users\\piyal\\anaconda3\\lib\\site-packages (from spacy<3.6.0,>=3.5.0->en-core-web-sm==3.5.0) (6.3.0)\n",
      "Requirement already satisfied: tqdm<5.0.0,>=4.38.0 in c:\\users\\piyal\\anaconda3\\lib\\site-packages (from spacy<3.6.0,>=3.5.0->en-core-web-sm==3.5.0) (4.62.3)\n",
      "Requirement already satisfied: numpy>=1.15.0 in c:\\users\\piyal\\anaconda3\\lib\\site-packages (from spacy<3.6.0,>=3.5.0->en-core-web-sm==3.5.0) (1.20.3)\n",
      "Requirement already satisfied: requests<3.0.0,>=2.13.0 in c:\\users\\piyal\\anaconda3\\lib\\site-packages (from spacy<3.6.0,>=3.5.0->en-core-web-sm==3.5.0) (2.26.0)\n",
      "Requirement already satisfied: pydantic!=1.8,!=1.8.1,<1.11.0,>=1.7.4 in c:\\users\\piyal\\anaconda3\\lib\\site-packages (from spacy<3.6.0,>=3.5.0->en-core-web-sm==3.5.0) (1.10.7)\n",
      "Requirement already satisfied: jinja2 in c:\\users\\piyal\\anaconda3\\lib\\site-packages (from spacy<3.6.0,>=3.5.0->en-core-web-sm==3.5.0) (2.11.3)\n",
      "Requirement already satisfied: setuptools in c:\\users\\piyal\\anaconda3\\lib\\site-packages (from spacy<3.6.0,>=3.5.0->en-core-web-sm==3.5.0) (67.6.1)\n",
      "Requirement already satisfied: packaging>=20.0 in c:\\users\\piyal\\anaconda3\\lib\\site-packages (from spacy<3.6.0,>=3.5.0->en-core-web-sm==3.5.0) (21.0)\n",
      "Requirement already satisfied: langcodes<4.0.0,>=3.2.0 in c:\\users\\piyal\\anaconda3\\lib\\site-packages (from spacy<3.6.0,>=3.5.0->en-core-web-sm==3.5.0) (3.3.0)\n",
      "Requirement already satisfied: pyparsing>=2.0.2 in c:\\users\\piyal\\anaconda3\\lib\\site-packages (from packaging>=20.0->spacy<3.6.0,>=3.5.0->en-core-web-sm==3.5.0) (3.0.4)\n",
      "Requirement already satisfied: typing-extensions>=4.2.0 in c:\\users\\piyal\\anaconda3\\lib\\site-packages (from pydantic!=1.8,!=1.8.1,<1.11.0,>=1.7.4->spacy<3.6.0,>=3.5.0->en-core-web-sm==3.5.0) (4.5.0)\n",
      "Requirement already satisfied: urllib3<1.27,>=1.21.1 in c:\\users\\piyal\\anaconda3\\lib\\site-packages (from requests<3.0.0,>=2.13.0->spacy<3.6.0,>=3.5.0->en-core-web-sm==3.5.0) (1.26.7)\n",
      "Requirement already satisfied: certifi>=2017.4.17 in c:\\users\\piyal\\anaconda3\\lib\\site-packages (from requests<3.0.0,>=2.13.0->spacy<3.6.0,>=3.5.0->en-core-web-sm==3.5.0) (2021.10.8)\n",
      "Requirement already satisfied: charset-normalizer~=2.0.0 in c:\\users\\piyal\\anaconda3\\lib\\site-packages (from requests<3.0.0,>=2.13.0->spacy<3.6.0,>=3.5.0->en-core-web-sm==3.5.0) (2.0.4)\n",
      "Requirement already satisfied: idna<4,>=2.5 in c:\\users\\piyal\\anaconda3\\lib\\site-packages (from requests<3.0.0,>=2.13.0->spacy<3.6.0,>=3.5.0->en-core-web-sm==3.5.0) (3.2)\n",
      "Requirement already satisfied: blis<0.8.0,>=0.7.8 in c:\\users\\piyal\\anaconda3\\lib\\site-packages (from thinc<8.2.0,>=8.1.8->spacy<3.6.0,>=3.5.0->en-core-web-sm==3.5.0) (0.7.9)\n",
      "Requirement already satisfied: confection<1.0.0,>=0.0.1 in c:\\users\\piyal\\anaconda3\\lib\\site-packages (from thinc<8.2.0,>=8.1.8->spacy<3.6.0,>=3.5.0->en-core-web-sm==3.5.0) (0.0.4)\n",
      "Requirement already satisfied: colorama in c:\\users\\piyal\\anaconda3\\lib\\site-packages (from tqdm<5.0.0,>=4.38.0->spacy<3.6.0,>=3.5.0->en-core-web-sm==3.5.0) (0.4.6)\n",
      "Requirement already satisfied: click<9.0.0,>=7.1.1 in c:\\users\\piyal\\anaconda3\\lib\\site-packages (from typer<0.8.0,>=0.3.0->spacy<3.6.0,>=3.5.0->en-core-web-sm==3.5.0) (8.0.3)\n",
      "Requirement already satisfied: MarkupSafe>=0.23 in c:\\users\\piyal\\anaconda3\\lib\\site-packages (from jinja2->spacy<3.6.0,>=3.5.0->en-core-web-sm==3.5.0) (1.1.1)\n",
      "Installing collected packages: en-core-web-sm\n",
      "Successfully installed en-core-web-sm-3.5.0\n",
      "\u001b[38;5;2m[+] Download and installation successful\u001b[0m\n",
      "You can now load the package via spacy.load('en_core_web_sm')\n"
     ]
    }
   ],
   "source": [
    "!pip install -U pip setuptools wheel\n",
    "!pip install -U spacy\n",
    "!python -m spacy download en_core_web_sm"
   ]
  },
  {
   "cell_type": "code",
   "execution_count": 4,
   "id": "7a313a18",
   "metadata": {},
   "outputs": [],
   "source": [
    "import spacy\n",
    "from spacy.lang.en.stop_words import STOP_WORDS\n",
    "from string import punctuation"
   ]
  },
  {
   "cell_type": "markdown",
   "id": "171dd801",
   "metadata": {},
   "source": [
    "**What are Stop Words?**\n",
    "\n",
    "Set of commonly used words, for example, \"is\", \"a\", \"the\",\"and\" ,etc.\n",
    "\n",
    "Let us make a list of stop words."
   ]
  },
  {
   "cell_type": "code",
   "execution_count": 7,
   "id": "bb2c3199",
   "metadata": {},
   "outputs": [
    {
     "data": {
      "text/plain": [
       "['many',\n",
       " 'do',\n",
       " 'seemed',\n",
       " 'or',\n",
       " 'why',\n",
       " 'full',\n",
       " 'every',\n",
       " 'until',\n",
       " '‘ll',\n",
       " 'most',\n",
       " 'us',\n",
       " '‘m',\n",
       " 'get',\n",
       " 'me',\n",
       " 'has',\n",
       " 'seem',\n",
       " 'hereupon',\n",
       " 'almost',\n",
       " 'however',\n",
       " \"'ve\",\n",
       " 'been',\n",
       " 'nor',\n",
       " 'any',\n",
       " 'six',\n",
       " 'for',\n",
       " 'wherever',\n",
       " 'when',\n",
       " 'several',\n",
       " 'except',\n",
       " 'had',\n",
       " 'ours',\n",
       " 'make',\n",
       " 'nothing',\n",
       " 'whereas',\n",
       " 'indeed',\n",
       " 'per',\n",
       " 'often',\n",
       " 'third',\n",
       " 'whence',\n",
       " 'n’t',\n",
       " 'him',\n",
       " 'off',\n",
       " 'whose',\n",
       " 'seeming',\n",
       " 'but',\n",
       " 'thereafter',\n",
       " 'just',\n",
       " 'is',\n",
       " 'not',\n",
       " 'between',\n",
       " 'with',\n",
       " \"'m\",\n",
       " 'ever',\n",
       " 'since',\n",
       " 'seems',\n",
       " 'them',\n",
       " 'all',\n",
       " 'used',\n",
       " 'made',\n",
       " 'though',\n",
       " 'name',\n",
       " 'throughout',\n",
       " \"'s\",\n",
       " 'call',\n",
       " 'under',\n",
       " 'unless',\n",
       " 'was',\n",
       " 'who',\n",
       " 'have',\n",
       " 'hundred',\n",
       " 'twelve',\n",
       " 'should',\n",
       " 'whatever',\n",
       " 'four',\n",
       " 'himself',\n",
       " 'bottom',\n",
       " 'themselves',\n",
       " 'still',\n",
       " 'n‘t',\n",
       " 'three',\n",
       " 'must',\n",
       " 'both',\n",
       " 'down',\n",
       " 'two',\n",
       " 'will',\n",
       " 'into',\n",
       " '‘re',\n",
       " 'i',\n",
       " 'he',\n",
       " 'serious',\n",
       " 'even',\n",
       " 'does',\n",
       " 'also',\n",
       " 'as',\n",
       " 'whether',\n",
       " 'beyond',\n",
       " 'fifteen',\n",
       " 'within',\n",
       " 'hence',\n",
       " 'beside',\n",
       " 'cannot',\n",
       " 'although',\n",
       " 'these',\n",
       " 'less',\n",
       " 'this',\n",
       " 'could',\n",
       " 'due',\n",
       " 'top',\n",
       " 'up',\n",
       " 'become',\n",
       " 'hereafter',\n",
       " 'front',\n",
       " \"'re\",\n",
       " 'give',\n",
       " 'yourself',\n",
       " 'well',\n",
       " 'they',\n",
       " 'through',\n",
       " 're',\n",
       " 'over',\n",
       " 'below',\n",
       " 'and',\n",
       " 'same',\n",
       " 'its',\n",
       " 'meanwhile',\n",
       " 'put',\n",
       " 'during',\n",
       " 'than',\n",
       " 'then',\n",
       " 'became',\n",
       " 'everything',\n",
       " 'above',\n",
       " 'first',\n",
       " 'therein',\n",
       " 'against',\n",
       " 'our',\n",
       " 'what',\n",
       " 'anyhow',\n",
       " 'ten',\n",
       " 'five',\n",
       " 'upon',\n",
       " 'once',\n",
       " 'can',\n",
       " 'toward',\n",
       " 'may',\n",
       " 'please',\n",
       " 'else',\n",
       " 'enough',\n",
       " 'very',\n",
       " 'eight',\n",
       " 'regarding',\n",
       " 'those',\n",
       " 'latter',\n",
       " 'wherein',\n",
       " '’s',\n",
       " 'were',\n",
       " 'otherwise',\n",
       " 'being',\n",
       " 'everyone',\n",
       " 'thence',\n",
       " 'twenty',\n",
       " 'there',\n",
       " 'each',\n",
       " 'elsewhere',\n",
       " 'forty',\n",
       " 'doing',\n",
       " 'an',\n",
       " 'noone',\n",
       " 'only',\n",
       " 'nine',\n",
       " 'from',\n",
       " 'which',\n",
       " 'fifty',\n",
       " 'beforehand',\n",
       " 'be',\n",
       " 'while',\n",
       " '’m',\n",
       " 'least',\n",
       " 'other',\n",
       " 'am',\n",
       " 'ca',\n",
       " 'eleven',\n",
       " 'would',\n",
       " 'whoever',\n",
       " 'again',\n",
       " 'rather',\n",
       " 'former',\n",
       " 'take',\n",
       " 'at',\n",
       " 'nobody',\n",
       " 'back',\n",
       " 'herself',\n",
       " 'anyone',\n",
       " 'own',\n",
       " \"n't\",\n",
       " 'myself',\n",
       " 'move',\n",
       " 'another',\n",
       " 'really',\n",
       " '‘ve',\n",
       " 'already',\n",
       " 'never',\n",
       " '‘s',\n",
       " 'either',\n",
       " 'say',\n",
       " 'your',\n",
       " 'everywhere',\n",
       " 'hers',\n",
       " 'sometimes',\n",
       " 'did',\n",
       " 'some',\n",
       " 'behind',\n",
       " 'his',\n",
       " 'anyway',\n",
       " 'thus',\n",
       " 'before',\n",
       " 'across',\n",
       " 'somehow',\n",
       " 'sixty',\n",
       " 'formerly',\n",
       " 'her',\n",
       " '’ll',\n",
       " 'nevertheless',\n",
       " 'a',\n",
       " 'anything',\n",
       " 'about',\n",
       " \"'ll\",\n",
       " 'mostly',\n",
       " 'anywhere',\n",
       " 'here',\n",
       " 'whereafter',\n",
       " 'the',\n",
       " 'onto',\n",
       " 'perhaps',\n",
       " 'besides',\n",
       " 'via',\n",
       " 'show',\n",
       " 'amount',\n",
       " 'thereby',\n",
       " 'so',\n",
       " 'next',\n",
       " 'latterly',\n",
       " 'somewhere',\n",
       " 'whereby',\n",
       " 'are',\n",
       " 'now',\n",
       " 'thereupon',\n",
       " 'part',\n",
       " 'side',\n",
       " 'yours',\n",
       " 'last',\n",
       " 'keep',\n",
       " 'namely',\n",
       " 'whither',\n",
       " 'out',\n",
       " 'my',\n",
       " 'she',\n",
       " '‘d',\n",
       " 'yourselves',\n",
       " 'go',\n",
       " 'amongst',\n",
       " 'using',\n",
       " 'moreover',\n",
       " 'such',\n",
       " 'one',\n",
       " 'in',\n",
       " 'on',\n",
       " 'it',\n",
       " \"'d\",\n",
       " 'no',\n",
       " 'something',\n",
       " 'thru',\n",
       " 'herein',\n",
       " 'after',\n",
       " 'whole',\n",
       " 'too',\n",
       " '’ve',\n",
       " 'by',\n",
       " 'yet',\n",
       " 'their',\n",
       " 'because',\n",
       " 'how',\n",
       " 'further',\n",
       " 'becoming',\n",
       " '’d',\n",
       " 'whenever',\n",
       " 'whom',\n",
       " 'alone',\n",
       " 'where',\n",
       " 'to',\n",
       " 'see',\n",
       " 'someone',\n",
       " 'hereby',\n",
       " 'whereupon',\n",
       " 'towards',\n",
       " 'of',\n",
       " 'along',\n",
       " 'quite',\n",
       " 'itself',\n",
       " 'therefore',\n",
       " 'sometime',\n",
       " 'you',\n",
       " 'various',\n",
       " 'done',\n",
       " 'that',\n",
       " 'mine',\n",
       " 'none',\n",
       " '’re',\n",
       " 'neither',\n",
       " 'ourselves',\n",
       " 'afterwards',\n",
       " 'others',\n",
       " 'without',\n",
       " 'much',\n",
       " 'around',\n",
       " 'empty',\n",
       " 'together',\n",
       " 'few',\n",
       " 'more',\n",
       " 'becomes',\n",
       " 'nowhere',\n",
       " 'among',\n",
       " 'we',\n",
       " 'might',\n",
       " 'always',\n",
       " 'if']"
      ]
     },
     "execution_count": 7,
     "metadata": {},
     "output_type": "execute_result"
    }
   ],
   "source": [
    "stopwords=list(STOP_WORDS)\n",
    "stopwords"
   ]
  },
  {
   "cell_type": "markdown",
   "id": "43192f59",
   "metadata": {},
   "source": [
    "Creating the NLP model by calling en_core_web_sm, so that we can do this with the help of SpaCy"
   ]
  },
  {
   "cell_type": "code",
   "execution_count": 8,
   "id": "7848aee3",
   "metadata": {},
   "outputs": [],
   "source": [
    "nlptext = spacy.load('en_core_web_sm')"
   ]
  },
  {
   "cell_type": "markdown",
   "id": "4796bd9c",
   "metadata": {},
   "source": [
    "**Tokenization**\n",
    "\n",
    "Let's get the tokenized sentence and tokenized word in a doc"
   ]
  },
  {
   "cell_type": "code",
   "execution_count": 17,
   "id": "31c31632",
   "metadata": {},
   "outputs": [],
   "source": [
    "doc = nlptext(text)"
   ]
  },
  {
   "cell_type": "markdown",
   "id": "7c082cbf",
   "metadata": {},
   "source": [
    "List of the token\n",
    "\n",
    "where we will see that stop words and punctuations are also the part of tokens "
   ]
  },
  {
   "cell_type": "code",
   "execution_count": 18,
   "id": "864dfb14",
   "metadata": {},
   "outputs": [
    {
     "name": "stdout",
     "output_type": "stream",
     "text": [
      "['\\n', 'Johannes', 'Gutenberg', 'was', 'a', 'German', 'goldsmith', 'and', 'publisher', 'who', 'introduced', 'printing', 'to', 'Europe', '.', 'His', 'introduction', 'of', 'mechanical', 'movable', 'type', 'printing', 'to', 'Europe', 'started', 'the', 'Printing', 'Revolution', 'and', 'is', 'widely', 'regarded', 'as', 'the', 'most', 'important', 'event', 'of', 'the', 'modern', 'period', '.', 'It', 'played', 'a', 'key', 'role', 'in', 'the', 'scientific', 'revolution', 'and', 'laid', 'the', 'basis', 'for', 'the', 'modern', 'knowledge', '-', 'based', 'economy', 'and', 'the', 'spread', 'of', 'learning', 'to', 'the', 'masses', '.', '\\n', 'Gutenberg', 'many', 'contributions', 'to', 'printing', 'are', ':', 'the', 'invention', 'of', 'a', 'process', 'for', 'mass', '-', 'producing', 'movable', 'type', ',', 'the', 'use', 'of', 'oil', '-', 'based', 'ink', 'for', 'printing', 'books', ',', 'adjustable', 'molds', ',', 'and', 'the', 'use', 'of', 'a', 'wooden', 'printing', 'press', '.', 'His', 'truly', 'epochal', 'invention', 'was', 'the', 'combination', 'of', 'these', 'elements', 'into', 'a', 'practical', 'system', 'that', 'allowed', 'the', 'mass', 'production', 'of', 'printed', 'books', 'and', 'was', 'economically', 'viable', 'for', 'printers', 'and', 'readers', 'alike', '.', '\\n', 'In', 'Renaissance', 'Europe', ',', 'the', 'arrival', 'of', 'mechanical', 'movable', 'type', 'printing', 'introduced', 'the', 'era', 'of', 'mass', 'communication', 'which', 'permanently', 'altered', 'the', 'structure', 'of', 'society', '.', 'The', 'relatively', 'unrestricted', 'circulation', 'of', 'information', 'including', 'revolutionary', 'ideas', '-', 'transcended', 'borders', ',', 'and', 'captured', 'the', 'masses', 'in', 'the', 'Reformation', '.', 'The', 'sharp', 'increase', 'in', 'literacy', 'broke', 'the', 'monopoly', 'of', 'the', 'literate', 'elite', 'on', 'education', 'and', 'learning', 'and', 'bolstered', 'the', 'emerging', 'middle', 'class', '.', '\\n']\n"
     ]
    }
   ],
   "source": [
    "tokens = [token.text for token in doc]\n",
    "print(tokens)"
   ]
  },
  {
   "cell_type": "markdown",
   "id": "f2465488",
   "metadata": {},
   "source": [
    "Now, let's remove all the stop words as well as the punctuation\n",
    "\n",
    "Here, as the new line '\\n' is not a part of punctuation, so we will add it."
   ]
  },
  {
   "cell_type": "code",
   "execution_count": 13,
   "id": "8ce19b0c",
   "metadata": {},
   "outputs": [
    {
     "data": {
      "text/plain": [
       "'!\"#$%&\\'()*+,-./:;<=>?@[\\\\]^_`{|}~\\n'"
      ]
     },
     "execution_count": 13,
     "metadata": {},
     "output_type": "execute_result"
    }
   ],
   "source": [
    "punctuation = punctuation + '\\n'\n",
    "punctuation"
   ]
  },
  {
   "cell_type": "markdown",
   "id": "7e35bdd4",
   "metadata": {},
   "source": [
    "Calculating word frequencies\n",
    "\n",
    "where if the word is occurring for the first time, it is equal to 1 otherwise if repeating then +1 everytime."
   ]
  },
  {
   "cell_type": "code",
   "execution_count": 19,
   "id": "6d664a66",
   "metadata": {},
   "outputs": [],
   "source": [
    "word_freq = {}\n",
    "for word in doc:\n",
    "    if word.text.lower() not in stopwords:\n",
    "        if word.text.lower() not in punctuation:\n",
    "            if word.text not in word_freq.keys():\n",
    "                word_freq[word.text] = 1\n",
    "            else:\n",
    "                word_freq[word.text] += 1"
   ]
  },
  {
   "cell_type": "code",
   "execution_count": 21,
   "id": "6d6ca7f5",
   "metadata": {},
   "outputs": [
    {
     "name": "stdout",
     "output_type": "stream",
     "text": [
      "{'Johannes': 1, 'Gutenberg': 2, 'German': 1, 'goldsmith': 1, 'publisher': 1, 'introduced': 2, 'printing': 6, 'Europe': 3, 'introduction': 1, 'mechanical': 2, 'movable': 3, 'type': 3, 'started': 1, 'Printing': 1, 'Revolution': 1, 'widely': 1, 'regarded': 1, 'important': 1, 'event': 1, 'modern': 2, 'period': 1, 'played': 1, 'key': 1, 'role': 1, 'scientific': 1, 'revolution': 1, 'laid': 1, 'basis': 1, 'knowledge': 1, 'based': 2, 'economy': 1, 'spread': 1, 'learning': 2, 'masses': 2, 'contributions': 1, 'invention': 2, 'process': 1, 'mass': 3, 'producing': 1, 'use': 2, 'oil': 1, 'ink': 1, 'books': 2, 'adjustable': 1, 'molds': 1, 'wooden': 1, 'press': 1, 'truly': 1, 'epochal': 1, 'combination': 1, 'elements': 1, 'practical': 1, 'system': 1, 'allowed': 1, 'production': 1, 'printed': 1, 'economically': 1, 'viable': 1, 'printers': 1, 'readers': 1, 'alike': 1, 'Renaissance': 1, 'arrival': 1, 'era': 1, 'communication': 1, 'permanently': 1, 'altered': 1, 'structure': 1, 'society': 1, 'relatively': 1, 'unrestricted': 1, 'circulation': 1, 'information': 1, 'including': 1, 'revolutionary': 1, 'ideas': 1, 'transcended': 1, 'borders': 1, 'captured': 1, 'Reformation': 1, 'sharp': 1, 'increase': 1, 'literacy': 1, 'broke': 1, 'monopoly': 1, 'literate': 1, 'elite': 1, 'education': 1, 'bolstered': 1, 'emerging': 1, 'middle': 1, 'class': 1}\n"
     ]
    }
   ],
   "source": [
    "print(word_freq)"
   ]
  },
  {
   "cell_type": "code",
   "execution_count": 22,
   "id": "e995fed5",
   "metadata": {},
   "outputs": [
    {
     "data": {
      "text/plain": [
       "6"
      ]
     },
     "execution_count": 22,
     "metadata": {},
     "output_type": "execute_result"
    }
   ],
   "source": [
    "max_freq= max(word_freq.values())\n",
    "max_freq"
   ]
  },
  {
   "cell_type": "markdown",
   "id": "d933c1c3",
   "metadata": {},
   "source": [
    "Now, we are going to divide all the frequencies with the maximum frequency, so that we can get a normalised frequency can be achieved\n",
    "\n",
    "Note: 1 is maximum normalised frequency."
   ]
  },
  {
   "cell_type": "code",
   "execution_count": 23,
   "id": "4a803fd8",
   "metadata": {},
   "outputs": [],
   "source": [
    "for word in word_freq.keys():\n",
    "    word_freq[word] = word_freq[word]/max_freq"
   ]
  },
  {
   "cell_type": "code",
   "execution_count": 24,
   "id": "cb257d4f",
   "metadata": {},
   "outputs": [
    {
     "name": "stdout",
     "output_type": "stream",
     "text": [
      "{'Johannes': 0.16666666666666666, 'Gutenberg': 0.3333333333333333, 'German': 0.16666666666666666, 'goldsmith': 0.16666666666666666, 'publisher': 0.16666666666666666, 'introduced': 0.3333333333333333, 'printing': 1.0, 'Europe': 0.5, 'introduction': 0.16666666666666666, 'mechanical': 0.3333333333333333, 'movable': 0.5, 'type': 0.5, 'started': 0.16666666666666666, 'Printing': 0.16666666666666666, 'Revolution': 0.16666666666666666, 'widely': 0.16666666666666666, 'regarded': 0.16666666666666666, 'important': 0.16666666666666666, 'event': 0.16666666666666666, 'modern': 0.3333333333333333, 'period': 0.16666666666666666, 'played': 0.16666666666666666, 'key': 0.16666666666666666, 'role': 0.16666666666666666, 'scientific': 0.16666666666666666, 'revolution': 0.16666666666666666, 'laid': 0.16666666666666666, 'basis': 0.16666666666666666, 'knowledge': 0.16666666666666666, 'based': 0.3333333333333333, 'economy': 0.16666666666666666, 'spread': 0.16666666666666666, 'learning': 0.3333333333333333, 'masses': 0.3333333333333333, 'contributions': 0.16666666666666666, 'invention': 0.3333333333333333, 'process': 0.16666666666666666, 'mass': 0.5, 'producing': 0.16666666666666666, 'use': 0.3333333333333333, 'oil': 0.16666666666666666, 'ink': 0.16666666666666666, 'books': 0.3333333333333333, 'adjustable': 0.16666666666666666, 'molds': 0.16666666666666666, 'wooden': 0.16666666666666666, 'press': 0.16666666666666666, 'truly': 0.16666666666666666, 'epochal': 0.16666666666666666, 'combination': 0.16666666666666666, 'elements': 0.16666666666666666, 'practical': 0.16666666666666666, 'system': 0.16666666666666666, 'allowed': 0.16666666666666666, 'production': 0.16666666666666666, 'printed': 0.16666666666666666, 'economically': 0.16666666666666666, 'viable': 0.16666666666666666, 'printers': 0.16666666666666666, 'readers': 0.16666666666666666, 'alike': 0.16666666666666666, 'Renaissance': 0.16666666666666666, 'arrival': 0.16666666666666666, 'era': 0.16666666666666666, 'communication': 0.16666666666666666, 'permanently': 0.16666666666666666, 'altered': 0.16666666666666666, 'structure': 0.16666666666666666, 'society': 0.16666666666666666, 'relatively': 0.16666666666666666, 'unrestricted': 0.16666666666666666, 'circulation': 0.16666666666666666, 'information': 0.16666666666666666, 'including': 0.16666666666666666, 'revolutionary': 0.16666666666666666, 'ideas': 0.16666666666666666, 'transcended': 0.16666666666666666, 'borders': 0.16666666666666666, 'captured': 0.16666666666666666, 'Reformation': 0.16666666666666666, 'sharp': 0.16666666666666666, 'increase': 0.16666666666666666, 'literacy': 0.16666666666666666, 'broke': 0.16666666666666666, 'monopoly': 0.16666666666666666, 'literate': 0.16666666666666666, 'elite': 0.16666666666666666, 'education': 0.16666666666666666, 'bolstered': 0.16666666666666666, 'emerging': 0.16666666666666666, 'middle': 0.16666666666666666, 'class': 0.16666666666666666}\n"
     ]
    }
   ],
   "source": [
    "print(word_freq)"
   ]
  },
  {
   "cell_type": "markdown",
   "id": "0bae715e",
   "metadata": {},
   "source": [
    "**Sentence Tokenization**\n",
    "\n",
    "Tokenization is splitting the raw text into small chunks of words or sentences.If the text is split into sentences then its called as 'Sentence Tokenization'. "
   ]
  },
  {
   "cell_type": "code",
   "execution_count": 25,
   "id": "2c2d9b45",
   "metadata": {},
   "outputs": [
    {
     "name": "stdout",
     "output_type": "stream",
     "text": [
      "[\n",
      "Johannes Gutenberg was a German goldsmith and publisher who introduced printing to Europe., His introduction of mechanical movable type printing to Europe started the Printing Revolution and is widely regarded as the most important event of the modern period., It played a key role in the scientific revolution and laid the basis for the modern knowledge-based economy and the spread of learning to the masses.\n",
      ", Gutenberg many contributions to printing are: the invention of a process for mass-producing movable type, the use of oil-based ink for printing books, adjustable molds, and the use of a wooden printing press., His truly epochal invention was the combination of these elements into a practical system that allowed the mass production of printed books and was economically viable for printers and readers alike.\n",
      ", In Renaissance Europe, the arrival of mechanical movable type printing introduced the era of mass communication which permanently altered the structure of society., The relatively unrestricted circulation of information including revolutionary ideas - transcended borders, and captured the masses in the Reformation., The sharp increase in literacy broke the monopoly of the literate elite on education and learning and bolstered the emerging middle class.\n",
      "]\n"
     ]
    }
   ],
   "source": [
    "sentence_tokens = [sent for sent in doc.sents]\n",
    "print(sentence_tokens)"
   ]
  },
  {
   "cell_type": "markdown",
   "id": "9ac14cc6",
   "metadata": {},
   "source": [
    "Calculating sentence scores \n",
    "\n",
    "where same as for word frequencies we will create a dictionary for sentence scores as well"
   ]
  },
  {
   "cell_type": "code",
   "execution_count": 31,
   "id": "5cbad17f",
   "metadata": {},
   "outputs": [],
   "source": [
    "sentence_score = {}\n",
    "for sent in sentence_tokens:\n",
    "    for word in sent:\n",
    "        if word.text.lower() in word_freq.keys():\n",
    "            if sent not in sentence_score.keys():\n",
    "                sentence_score[sent] = word_freq[word.text.lower()]\n",
    "            else:\n",
    "                sentence_score[sent] += word_freq[word.text.lower()]"
   ]
  },
  {
   "cell_type": "code",
   "execution_count": 32,
   "id": "414215b5",
   "metadata": {},
   "outputs": [
    {
     "name": "stdout",
     "output_type": "stream",
     "text": [
      "{\n",
      "Johannes Gutenberg was a German goldsmith and publisher who introduced printing to Europe.: 1.6666666666666665, His introduction of mechanical movable type printing to Europe started the Printing Revolution and is widely regarded as the most important event of the modern period.: 5.0, It played a key role in the scientific revolution and laid the basis for the modern knowledge-based economy and the spread of learning to the masses.\n",
      ": 3.0, Gutenberg many contributions to printing are: the invention of a process for mass-producing movable type, the use of oil-based ink for printing books, adjustable molds, and the use of a wooden printing press.: 7.666666666666668, His truly epochal invention was the combination of these elements into a practical system that allowed the mass production of printed books and was economically viable for printers and readers alike.\n",
      ": 3.499999999999999, In Renaissance Europe, the arrival of mechanical movable type printing introduced the era of mass communication which permanently altered the structure of society.: 4.333333333333333, The relatively unrestricted circulation of information including revolutionary ideas - transcended borders, and captured the masses in the Reformation.: 2.0, The sharp increase in literacy broke the monopoly of the literate elite on education and learning and bolstered the emerging middle class.\n",
      ": 2.333333333333333}\n"
     ]
    }
   ],
   "source": [
    "print(sentence_score)"
   ]
  },
  {
   "cell_type": "markdown",
   "id": "fdb4e79a",
   "metadata": {},
   "source": [
    "Now, our task is to get 30% of sentence with maximum score using **nlargest library**"
   ]
  },
  {
   "cell_type": "code",
   "execution_count": 33,
   "id": "69db5d71",
   "metadata": {},
   "outputs": [],
   "source": [
    "from heapq import nlargest"
   ]
  },
  {
   "cell_type": "code",
   "execution_count": 34,
   "id": "9703f8bb",
   "metadata": {},
   "outputs": [
    {
     "data": {
      "text/plain": [
       "2"
      ]
     },
     "execution_count": 34,
     "metadata": {},
     "output_type": "execute_result"
    }
   ],
   "source": [
    "select_len = int(len(sentence_tokens)*0.3)\n",
    "select_len"
   ]
  },
  {
   "cell_type": "markdown",
   "id": "10a60503",
   "metadata": {},
   "source": [
    "nlargest(n, iterable, key= None)"
   ]
  },
  {
   "cell_type": "code",
   "execution_count": 35,
   "id": "8e5a83ca",
   "metadata": {},
   "outputs": [
    {
     "data": {
      "text/plain": [
       "[Gutenberg many contributions to printing are: the invention of a process for mass-producing movable type, the use of oil-based ink for printing books, adjustable molds, and the use of a wooden printing press.,\n",
       " His introduction of mechanical movable type printing to Europe started the Printing Revolution and is widely regarded as the most important event of the modern period.]"
      ]
     },
     "execution_count": 35,
     "metadata": {},
     "output_type": "execute_result"
    }
   ],
   "source": [
    "summary = nlargest(select_len, sentence_score, key=sentence_score.get)\n",
    "summary"
   ]
  },
  {
   "cell_type": "markdown",
   "id": "9dc99b0f",
   "metadata": {},
   "source": [
    "We got a short summary with it's 2 most important sentence.\n",
    "\n",
    "Let's now combine these sentences together."
   ]
  },
  {
   "cell_type": "code",
   "execution_count": 36,
   "id": "ad383618",
   "metadata": {},
   "outputs": [],
   "source": [
    "final_summary = [word.text for word in summary]"
   ]
  },
  {
   "cell_type": "code",
   "execution_count": 37,
   "id": "424ace2d",
   "metadata": {},
   "outputs": [],
   "source": [
    "summary = ' '.join(final_summary)"
   ]
  },
  {
   "cell_type": "code",
   "execution_count": 38,
   "id": "f0fe05d2",
   "metadata": {},
   "outputs": [
    {
     "name": "stdout",
     "output_type": "stream",
     "text": [
      "Gutenberg many contributions to printing are: the invention of a process for mass-producing movable type, the use of oil-based ink for printing books, adjustable molds, and the use of a wooden printing press. His introduction of mechanical movable type printing to Europe started the Printing Revolution and is widely regarded as the most important event of the modern period.\n"
     ]
    }
   ],
   "source": [
    "print(summary)"
   ]
  },
  {
   "cell_type": "code",
   "execution_count": 39,
   "id": "c293758d",
   "metadata": {},
   "outputs": [
    {
     "name": "stdout",
     "output_type": "stream",
     "text": [
      "\n",
      "Johannes Gutenberg was a German goldsmith and publisher who introduced printing to Europe. His introduction of mechanical movable type printing to Europe started the Printing Revolution and is widely regarded as the most important event of the modern period. It played a key role in the scientific revolution and laid the basis for the modern knowledge-based economy and the spread of learning to the masses.\n",
      "Gutenberg many contributions to printing are: the invention of a process for mass-producing movable type, the use of oil-based ink for printing books, adjustable molds, and the use of a wooden printing press. His truly epochal invention was the combination of these elements into a practical system that allowed the mass production of printed books and was economically viable for printers and readers alike.\n",
      "In Renaissance Europe, the arrival of mechanical movable type printing introduced the era of mass communication which permanently altered the structure of society. The relatively unrestricted circulation of information including revolutionary ideas - transcended borders, and captured the masses in the Reformation. The sharp increase in literacy broke the monopoly of the literate elite on education and learning and bolstered the emerging middle class.\n",
      "\n"
     ]
    }
   ],
   "source": [
    "#orginal text\n",
    "print(text)"
   ]
  },
  {
   "cell_type": "code",
   "execution_count": 40,
   "id": "933bc3fd",
   "metadata": {},
   "outputs": [
    {
     "data": {
      "text/plain": [
       "1274"
      ]
     },
     "execution_count": 40,
     "metadata": {},
     "output_type": "execute_result"
    }
   ],
   "source": [
    "len(text)"
   ]
  },
  {
   "cell_type": "code",
   "execution_count": 41,
   "id": "9f976765",
   "metadata": {},
   "outputs": [
    {
     "data": {
      "text/plain": [
       "376"
      ]
     },
     "execution_count": 41,
     "metadata": {},
     "output_type": "execute_result"
    }
   ],
   "source": [
    "len(summary)"
   ]
  }
 ],
 "metadata": {
  "kernelspec": {
   "display_name": "Python 3 (ipykernel)",
   "language": "python",
   "name": "python3"
  },
  "language_info": {
   "codemirror_mode": {
    "name": "ipython",
    "version": 3
   },
   "file_extension": ".py",
   "mimetype": "text/x-python",
   "name": "python",
   "nbconvert_exporter": "python",
   "pygments_lexer": "ipython3",
   "version": "3.9.7"
  }
 },
 "nbformat": 4,
 "nbformat_minor": 5
}
